{
 "metadata": {
  "name": "",
  "signature": "sha256:7567f35e939bdab0d17aebf0e7cad4c70e69cb2d08d88ff9f8dbbe1eafd95eb6"
 },
 "nbformat": 3,
 "nbformat_minor": 0,
 "worksheets": [
  {
   "cells": [
    {
     "cell_type": "code",
     "collapsed": false,
     "input": [
      "import pandas as pd\n",
      "import datetime"
     ],
     "language": "python",
     "metadata": {},
     "outputs": [],
     "prompt_number": 9
    },
    {
     "cell_type": "code",
     "collapsed": false,
     "input": [
      "data = pd.read_csv('query (1).csv')"
     ],
     "language": "python",
     "metadata": {},
     "outputs": [],
     "prompt_number": 10
    },
    {
     "cell_type": "code",
     "collapsed": false,
     "input": [
      "data.time = [i.replace(\"T\",' ').split('.')[0] for i in data.time]\n",
      "\n",
      "foo = [datetime.datetime.strptime(i, \"%Y-%m-%d %H:%M:%S\") for i in data.time]\n",
      "print type(foo[0])\n",
      "\n",
      "df = pd.DataFrame(data = None)\n",
      "\n",
      "df['lat'] = [i for i in data.latitude]\n",
      "df['lon'] = [i for i in data.longitude]\n",
      "df['mag'] = [i for i in data.mag]\n",
      "df['time'] = [i for i in foo]\n",
      "\n",
      "\n",
      "df = df.sort('time').reset_index(drop=True)\n",
      "df.head()"
     ],
     "language": "python",
     "metadata": {},
     "outputs": [
      {
       "output_type": "stream",
       "stream": "stdout",
       "text": [
        "<type 'datetime.datetime'>\n"
       ]
      },
      {
       "html": [
        "<div style=\"max-height:1000px;max-width:1500px;overflow:auto;\">\n",
        "<table border=\"1\" class=\"dataframe\">\n",
        "  <thead>\n",
        "    <tr style=\"text-align: right;\">\n",
        "      <th></th>\n",
        "      <th>lat</th>\n",
        "      <th>lon</th>\n",
        "      <th>mag</th>\n",
        "      <th>time</th>\n",
        "    </tr>\n",
        "  </thead>\n",
        "  <tbody>\n",
        "    <tr>\n",
        "      <th>0</th>\n",
        "      <td> 34.182167</td>\n",
        "      <td>-117.416167</td>\n",
        "      <td> 0.85</td>\n",
        "      <td>2016-01-01 00:12:50</td>\n",
        "    </tr>\n",
        "    <tr>\n",
        "      <th>1</th>\n",
        "      <td> 34.037500</td>\n",
        "      <td>-117.225333</td>\n",
        "      <td> 0.76</td>\n",
        "      <td>2016-01-01 00:18:09</td>\n",
        "    </tr>\n",
        "    <tr>\n",
        "      <th>2</th>\n",
        "      <td> 34.185833</td>\n",
        "      <td>-117.400167</td>\n",
        "      <td> 0.69</td>\n",
        "      <td>2016-01-01 00:21:42</td>\n",
        "    </tr>\n",
        "    <tr>\n",
        "      <th>3</th>\n",
        "      <td> 37.448500</td>\n",
        "      <td>-115.945500</td>\n",
        "      <td> 1.30</td>\n",
        "      <td>2016-01-01 00:30:58</td>\n",
        "    </tr>\n",
        "    <tr>\n",
        "      <th>4</th>\n",
        "      <td> 33.634167</td>\n",
        "      <td>-116.742000</td>\n",
        "      <td> 0.38</td>\n",
        "      <td>2016-01-01 00:42:11</td>\n",
        "    </tr>\n",
        "  </tbody>\n",
        "</table>\n",
        "</div>"
       ],
       "metadata": {},
       "output_type": "pyout",
       "prompt_number": 24,
       "text": [
        "         lat         lon   mag                time\n",
        "0  34.182167 -117.416167  0.85 2016-01-01 00:12:50\n",
        "1  34.037500 -117.225333  0.76 2016-01-01 00:18:09\n",
        "2  34.185833 -117.400167  0.69 2016-01-01 00:21:42\n",
        "3  37.448500 -115.945500  1.30 2016-01-01 00:30:58\n",
        "4  33.634167 -116.742000  0.38 2016-01-01 00:42:11"
       ]
      }
     ],
     "prompt_number": 24
    },
    {
     "cell_type": "code",
     "collapsed": false,
     "input": [
      "bar = [(i - df.time[0]).total_seconds() for i in df.time]"
     ],
     "language": "python",
     "metadata": {},
     "outputs": [],
     "prompt_number": 25
    },
    {
     "cell_type": "code",
     "collapsed": false,
     "input": [
      "df['t'] = bar"
     ],
     "language": "python",
     "metadata": {},
     "outputs": [],
     "prompt_number": 28
    },
    {
     "cell_type": "code",
     "collapsed": false,
     "input": [
      "df.to_csv('data.csv')"
     ],
     "language": "python",
     "metadata": {},
     "outputs": [],
     "prompt_number": 29
    },
    {
     "cell_type": "code",
     "collapsed": false,
     "input": [],
     "language": "python",
     "metadata": {},
     "outputs": []
    }
   ],
   "metadata": {}
  }
 ]
}